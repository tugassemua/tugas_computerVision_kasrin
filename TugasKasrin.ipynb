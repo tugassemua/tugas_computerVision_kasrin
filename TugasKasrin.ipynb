{
 "cells": [
  {
   "cell_type": "code",
   "execution_count": 1,
   "id": "a80abfb7-dea2-4d32-9cd1-dc20bc640765",
   "metadata": {},
   "outputs": [],
   "source": [
    "import numpy as np\n",
    "import cv2\n",
    "\n",
    "# Ukuran bendera\n",
    "height = 200\n",
    "width = 300\n",
    "\n",
    "# Warna dalam format BGR\n",
    "black = (0, 0, 0)    # Hitam\n",
    "yellow = (0, 255, 255)  # Kuning\n",
    "red = (0, 0, 255)    # Merah\n",
    "\n",
    "# Membuat latar belakang hitam\n",
    "flag = np.zeros((height, width, 3), dtype=np.uint8)\n",
    "\n",
    "# Lebar setiap garis\n",
    "stripe_width = width // 3\n",
    "\n",
    "# Menggambar tiga garis vertikal\n",
    "flag[:, :stripe_width] = black    # Sisi kiri hitam\n",
    "flag[:, stripe_width*1:stripe_width*2] = yellow  # Tengah kuning\n",
    "flag[:, stripe_width*2:] = red     # Sisi kanan merah\n",
    "\n",
    "# Menampilkan bendera Belgia\n",
    "cv2.imshow(\"Bendera Belgia\", flag)\n",
    "cv2.waitKey(0)\n",
    "cv2.destroyAllWindows()\n"
   ]
  },
  {
   "cell_type": "code",
   "execution_count": null,
   "id": "2d9919ee-f961-42ba-a190-52c66e680dbb",
   "metadata": {},
   "outputs": [],
   "source": []
  }
 ],
 "metadata": {
  "kernelspec": {
   "display_name": "Python 3 (ipykernel)",
   "language": "python",
   "name": "python3"
  },
  "language_info": {
   "codemirror_mode": {
    "name": "ipython",
    "version": 3
   },
   "file_extension": ".py",
   "mimetype": "text/x-python",
   "name": "python",
   "nbconvert_exporter": "python",
   "pygments_lexer": "ipython3",
   "version": "3.10.11"
  }
 },
 "nbformat": 4,
 "nbformat_minor": 5
}
