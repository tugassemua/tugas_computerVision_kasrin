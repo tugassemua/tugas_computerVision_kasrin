{
 "cells": [
  {
   "cell_type": "code",
   "execution_count": 3,
   "id": "66748efc-6739-4825-92c8-e270f14b1036",
   "metadata": {},
   "outputs": [
    {
     "name": "stdout",
     "output_type": "stream",
     "text": [
      "OpenCV version: 4.10.0\n"
     ]
    }
   ],
   "source": [
    "import cv2\n",
    "import numpy as np\n",
    "\n",
    "# Cek versi OpenCV\n",
    "print(f\"OpenCV version: {cv2.__version__}\")\n",
    "\n",
    "# Load gambar\n",
    "image = cv2.imread(r\"C:\\aplikasi_ml\\myenv\\Scripts\\Kasrin2.jpg\")\n",
    "\n",
    "if image is None:\n",
    "    print(\"Gambar tidak ditemukan. Periksa jalur file.\")\n",
    "else:\n",
    "    # Ubah gambar ke ruang warna HSV untuk memudahkan deteksi warna biru\n",
    "    hsv = cv2.cvtColor(image, cv2.COLOR_BGR2HSV)\n",
    "\n",
    "    # Rentang untuk deteksi warna biru dalam ruang warna HSV\n",
    "    lower_blue = np.array([100, 150, 0])   # Rentang bawah untuk biru\n",
    "    upper_blue = np.array([140, 255, 255])  # Rentang atas untuk biru\n",
    "\n",
    "    # Buat mask untuk warna biru\n",
    "    blue_mask = cv2.inRange(hsv, lower_blue, upper_blue)\n",
    "\n",
    "    # Buat latar belakang merah (warna merah dalam format BGR)\n",
    "    red_background = np.full_like(image, (0, 0, 255))  # Warna merah dalam format BGR\n",
    "\n",
    "    # Mask untuk objek yang bukan latar belakang biru (foreground)\n",
    "    non_blue_mask = cv2.bitwise_not(blue_mask)\n",
    "\n",
    "    # Gabungkan gambar dengan latar belakang merah hanya pada area biru (background)\n",
    "    background_part = cv2.bitwise_and(red_background, red_background, mask=blue_mask)  # Latar belakang merah\n",
    "    foreground_part = cv2.bitwise_and(image, image, mask=non_blue_mask)  # Gambar asli untuk objek\n",
    "\n",
    "    # Gabungkan latar belakang merah dengan objek yang tidak terpengaruh\n",
    "    result = cv2.add(foreground_part, background_part)\n",
    "\n",
    "    # Tampilkan hasil tanpa resizing (ukuran asli)\n",
    "    cv2.imshow(\"Gambar dengan Latar Belakang Merah (Ukuran Normal)\", result)\n",
    "    cv2.waitKey(0)\n",
    "    cv2.destroyAllWindows()\n"
   ]
  },
  {
   "cell_type": "code",
   "execution_count": null,
   "id": "8ab68e2e-680e-41e0-bf6d-76186b47192d",
   "metadata": {},
   "outputs": [],
   "source": []
  }
 ],
 "metadata": {
  "kernelspec": {
   "display_name": "Python 3 (ipykernel)",
   "language": "python",
   "name": "python3"
  },
  "language_info": {
   "codemirror_mode": {
    "name": "ipython",
    "version": 3
   },
   "file_extension": ".py",
   "mimetype": "text/x-python",
   "name": "python",
   "nbconvert_exporter": "python",
   "pygments_lexer": "ipython3",
   "version": "3.10.11"
  }
 },
 "nbformat": 4,
 "nbformat_minor": 5
}
